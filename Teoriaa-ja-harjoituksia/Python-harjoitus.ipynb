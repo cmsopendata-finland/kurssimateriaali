{
 "cells": [
  {
   "cell_type": "markdown",
   "metadata": {},
   "source": [
    "# Tehtävä – Pythonin perusteet"
   ]
  },
  {
   "cell_type": "markdown",
   "metadata": {},
   "source": [
    "Kirjoita alla olevaan koodisoluun ohjelma, joka suorittaa seuraavat vaiheet:\n",
    "- luodaan muuttuja _vaihtelu_, ja tallennetaan siihen teksti \"Muuttujaamme on nyt tallennettu tekstiä\"\n",
    "- tulostetaan _vaihtelu_:n sisältämä arvo\n",
    "- laitetaan koodi vaihtamaan muuttujan _vaihtelu_ sisältämän arvon desimaaliluvuksi 8,256\n",
    "- tulostetaan _vaihtelu_:n sisältämä arvo"
   ]
  },
  {
   "cell_type": "code",
   "execution_count": null,
   "metadata": {
    "collapsed": true
   },
   "outputs": [],
   "source": [
    "# Kirjoita tähän oma ohjelmasi. Voit kommentoida tekemisiäsi tällaisille kommenttiriveille.\n",
    "\n"
   ]
  }
 ],
 "metadata": {
  "kernelspec": {
   "display_name": "Python 2",
   "language": "python",
   "name": "python2"
  },
  "language_info": {
   "codemirror_mode": {
    "name": "ipython",
    "version": 2
   },
   "file_extension": ".py",
   "mimetype": "text/x-python",
   "name": "python",
   "nbconvert_exporter": "python",
   "pygments_lexer": "ipython2",
   "version": "2.7.10"
  }
 },
 "nbformat": 4,
 "nbformat_minor": 0
}
